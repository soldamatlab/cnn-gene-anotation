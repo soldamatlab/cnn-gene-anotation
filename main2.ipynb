{
 "cells": [
  {
   "cell_type": "code",
   "execution_count": 1,
   "metadata": {},
   "outputs": [
    {
     "data": {
      "text/plain": [
       "\"\\nMy solution of the assignment follows the procedure described in 'Protein Sequence Classification.\\nA case study on the Pfam dataset to classify protein families.' by Ronak Vijay available at\\nhttps://towardsdatascience.com/protein-sequence-classification-99c80d0ad2df.\\n\""
      ]
     },
     "execution_count": 1,
     "metadata": {},
     "output_type": "execute_result"
    }
   ],
   "source": [
    "import os\n",
    "\n",
    "from lib.input.load import load_sequences, load_labels\n",
    "from lib.model import LSTM, protCNN\n",
    "from lib.output.save import save_history\n",
    "from lib.output.plot import plot_history\n",
    "\n",
    "'''\n",
    "My solution of the assignment follows the procedure described in 'Protein Sequence Classification.\n",
    "A case study on the Pfam dataset to classify protein families.' by Ronak Vijay available at\n",
    "https://towardsdatascience.com/protein-sequence-classification-99c80d0ad2df.\n",
    "'''"
   ]
  },
  {
   "cell_type": "code",
   "execution_count": 2,
   "metadata": {},
   "outputs": [],
   "source": [
    "'''\n",
    "The data files and label files in the correct format can be generated with the accompanying script \"split_data.py\".\n",
    "'''\n",
    "DATA_FOLDER = \"apoptosis_damage\"\n",
    "\n",
    "TRAIN_PATH = DATA_FOLDER + \"/train.fasta\"\n",
    "TEST_PATH = DATA_FOLDER + \"/test.fasta\"\n",
    "VALIDATE_PATH = DATA_FOLDER + \"/validate.fasta\"\n",
    "\n",
    "TRAIN_LABELS_PATH = DATA_FOLDER + \"/train_labels.txt\"\n",
    "TEST_LABELS_PATH = DATA_FOLDER + \"/test_labels.txt\"\n",
    "VALIDATE_LABELS_PATH = DATA_FOLDER + \"/validate_labels.txt\""
   ]
  },
  {
   "cell_type": "code",
   "execution_count": 3,
   "metadata": {},
   "outputs": [],
   "source": [
    "'''\n",
    "Experiment settings.\n",
    "The individual NNs are configured in \"lib/model/LTSM.py\" and \"lib/model/protCNN.py\".\n",
    "'''\n",
    "MODEL = protCNN # LSTM or protCNN\n",
    "MAX_SEQUENCE_LENGTH = 100\n",
    "TRAIN_EPOCHS = 10 # 33 for LSTM, 10 for protCNN\n",
    "BATCH_SIZE = 256\n",
    "\n",
    "RUN_NAME = DATA_FOLDER + \"_\" + \\\n",
    "    (\"LSTM\" if MODEL == LSTM else \"protCNN\") + \\\n",
    "    \"_l\" + str(MAX_SEQUENCE_LENGTH) + \\\n",
    "    \"_e\" + str(TRAIN_EPOCHS) +\\\n",
    "    \"_b\" + str(BATCH_SIZE)\n",
    "HISTORY_PATH = \"./results/\" + RUN_NAME + \"_trainHistoryDict\""
   ]
  },
  {
   "cell_type": "code",
   "execution_count": 4,
   "metadata": {},
   "outputs": [
    {
     "name": "stdout",
     "output_type": "stream",
     "text": [
      "Model: \"model\"\n",
      "__________________________________________________________________________________________________\n",
      " Layer (type)                   Output Shape         Param #     Connected to                     \n",
      "==================================================================================================\n",
      " input_1 (InputLayer)           [(None, 100, 21)]    0           []                               \n",
      "                                                                                                  \n",
      " conv1d (Conv1D)                (None, 100, 128)     2816        ['input_1[0][0]']                \n",
      "                                                                                                  \n",
      " batch_normalization (BatchNorm  (None, 100, 128)    512         ['conv1d[0][0]']                 \n",
      " alization)                                                                                       \n",
      "                                                                                                  \n",
      " activation (Activation)        (None, 100, 128)     0           ['batch_normalization[0][0]']    \n",
      "                                                                                                  \n",
      " conv1d_1 (Conv1D)              (None, 100, 128)     16512       ['activation[0][0]']             \n",
      "                                                                                                  \n",
      " batch_normalization_1 (BatchNo  (None, 100, 128)    512         ['conv1d_1[0][0]']               \n",
      " rmalization)                                                                                     \n",
      "                                                                                                  \n",
      " activation_1 (Activation)      (None, 100, 128)     0           ['batch_normalization_1[0][0]']  \n",
      "                                                                                                  \n",
      " conv1d_2 (Conv1D)              (None, 100, 128)     49280       ['activation_1[0][0]']           \n",
      "                                                                                                  \n",
      " add (Add)                      (None, 100, 128)     0           ['conv1d_2[0][0]',               \n",
      "                                                                  'conv1d[0][0]']                 \n",
      "                                                                                                  \n",
      " batch_normalization_2 (BatchNo  (None, 100, 128)    512         ['add[0][0]']                    \n",
      " rmalization)                                                                                     \n",
      "                                                                                                  \n",
      " activation_2 (Activation)      (None, 100, 128)     0           ['batch_normalization_2[0][0]']  \n",
      "                                                                                                  \n",
      " conv1d_3 (Conv1D)              (None, 100, 128)     16512       ['activation_2[0][0]']           \n",
      "                                                                                                  \n",
      " batch_normalization_3 (BatchNo  (None, 100, 128)    512         ['conv1d_3[0][0]']               \n",
      " rmalization)                                                                                     \n",
      "                                                                                                  \n",
      " activation_3 (Activation)      (None, 100, 128)     0           ['batch_normalization_3[0][0]']  \n",
      "                                                                                                  \n",
      " conv1d_4 (Conv1D)              (None, 100, 128)     49280       ['activation_3[0][0]']           \n",
      "                                                                                                  \n",
      " add_1 (Add)                    (None, 100, 128)     0           ['conv1d_4[0][0]',               \n",
      "                                                                  'add[0][0]']                    \n",
      "                                                                                                  \n",
      " max_pooling1d (MaxPooling1D)   (None, 33, 128)      0           ['add_1[0][0]']                  \n",
      "                                                                                                  \n",
      " dropout (Dropout)              (None, 33, 128)      0           ['max_pooling1d[0][0]']          \n",
      "                                                                                                  \n",
      " flatten (Flatten)              (None, 4224)         0           ['dropout[0][0]']                \n",
      "                                                                                                  \n",
      " dense (Dense)                  (None, 2)            8450        ['flatten[0][0]']                \n",
      "                                                                                                  \n",
      "==================================================================================================\n",
      "Total params: 144,898\n",
      "Trainable params: 143,874\n",
      "Non-trainable params: 1,024\n",
      "__________________________________________________________________________________________________\n",
      "Model: \"model\"\n",
      "__________________________________________________________________________________________________\n",
      " Layer (type)                   Output Shape         Param #     Connected to                     \n",
      "==================================================================================================\n",
      " input_1 (InputLayer)           [(None, 100, 21)]    0           []                               \n",
      "                                                                                                  \n",
      " conv1d (Conv1D)                (None, 100, 128)     2816        ['input_1[0][0]']                \n",
      "                                                                                                  \n",
      " batch_normalization (BatchNorm  (None, 100, 128)    512         ['conv1d[0][0]']                 \n",
      " alization)                                                                                       \n",
      "                                                                                                  \n",
      " activation (Activation)        (None, 100, 128)     0           ['batch_normalization[0][0]']    \n",
      "                                                                                                  \n",
      " conv1d_1 (Conv1D)              (None, 100, 128)     16512       ['activation[0][0]']             \n",
      "                                                                                                  \n",
      " batch_normalization_1 (BatchNo  (None, 100, 128)    512         ['conv1d_1[0][0]']               \n",
      " rmalization)                                                                                     \n",
      "                                                                                                  \n",
      " activation_1 (Activation)      (None, 100, 128)     0           ['batch_normalization_1[0][0]']  \n",
      "                                                                                                  \n",
      " conv1d_2 (Conv1D)              (None, 100, 128)     49280       ['activation_1[0][0]']           \n",
      "                                                                                                  \n",
      " add (Add)                      (None, 100, 128)     0           ['conv1d_2[0][0]',               \n",
      "                                                                  'conv1d[0][0]']                 \n",
      "                                                                                                  \n",
      " batch_normalization_2 (BatchNo  (None, 100, 128)    512         ['add[0][0]']                    \n",
      " rmalization)                                                                                     \n",
      "                                                                                                  \n",
      " activation_2 (Activation)      (None, 100, 128)     0           ['batch_normalization_2[0][0]']  \n",
      "                                                                                                  \n",
      " conv1d_3 (Conv1D)              (None, 100, 128)     16512       ['activation_2[0][0]']           \n",
      "                                                                                                  \n",
      " batch_normalization_3 (BatchNo  (None, 100, 128)    512         ['conv1d_3[0][0]']               \n",
      " rmalization)                                                                                     \n",
      "                                                                                                  \n",
      " activation_3 (Activation)      (None, 100, 128)     0           ['batch_normalization_3[0][0]']  \n",
      "                                                                                                  \n",
      " conv1d_4 (Conv1D)              (None, 100, 128)     49280       ['activation_3[0][0]']           \n",
      "                                                                                                  \n",
      " add_1 (Add)                    (None, 100, 128)     0           ['conv1d_4[0][0]',               \n",
      "                                                                  'add[0][0]']                    \n",
      "                                                                                                  \n",
      " max_pooling1d (MaxPooling1D)   (None, 33, 128)      0           ['add_1[0][0]']                  \n",
      "                                                                                                  \n",
      " dropout (Dropout)              (None, 33, 128)      0           ['max_pooling1d[0][0]']          \n",
      "                                                                                                  \n",
      " flatten (Flatten)              (None, 4224)         0           ['dropout[0][0]']                \n",
      "                                                                                                  \n",
      " dense (Dense)                  (None, 2)            8450        ['flatten[0][0]']                \n",
      "                                                                                                  \n",
      "==================================================================================================\n",
      "Total params: 144,898\n",
      "Trainable params: 143,874\n",
      "Non-trainable params: 1,024\n",
      "__________________________________________________________________________________________________\n"
     ]
    }
   ],
   "source": [
    "train = load_sequences(TRAIN_PATH, MAX_SEQUENCE_LENGTH,\n",
    "                       categorical=MODEL == protCNN)\n",
    "train_labels = load_labels(TRAIN_LABELS_PATH)\n",
    "test = load_sequences(TEST_PATH, MAX_SEQUENCE_LENGTH,\n",
    "                      categorical=MODEL == protCNN)\n",
    "test_labels = load_labels(TEST_LABELS_PATH)\n",
    "\n",
    "model = MODEL.init_model(MAX_SEQUENCE_LENGTH, train_labels.shape[1])\n",
    "model.summary()"
   ]
  },
  {
   "cell_type": "code",
   "execution_count": 5,
   "metadata": {},
   "outputs": [
    {
     "name": "stdout",
     "output_type": "stream",
     "text": [
      "Epoch 1/10\n",
      "8/8 [==============================] - 10s 643ms/step - loss: 2.0833 - accuracy: 0.4965 - val_loss: 1.2234 - val_accuracy: 0.4000\n",
      "Epoch 2/10\n",
      "8/8 [==============================] - 4s 544ms/step - loss: 1.4292 - accuracy: 0.5898 - val_loss: 1.2138 - val_accuracy: 0.4955\n",
      "Epoch 3/10\n",
      "8/8 [==============================] - 5s 640ms/step - loss: 1.1849 - accuracy: 0.6744 - val_loss: 1.2102 - val_accuracy: 0.4864\n",
      "Epoch 4/10\n",
      "8/8 [==============================] - 5s 606ms/step - loss: 1.0982 - accuracy: 0.7165 - val_loss: 1.2065 - val_accuracy: 0.4636\n",
      "Epoch 5/10\n",
      "8/8 [==============================] - 5s 675ms/step - loss: 0.9878 - accuracy: 0.7774 - val_loss: 1.1993 - val_accuracy: 0.5136\n",
      "Epoch 6/10\n",
      "8/8 [==============================] - 5s 569ms/step - loss: 0.9326 - accuracy: 0.8078 - val_loss: 1.1964 - val_accuracy: 0.4864\n",
      "Epoch 7/10\n",
      "8/8 [==============================] - 5s 562ms/step - loss: 0.8918 - accuracy: 0.8195 - val_loss: 1.1938 - val_accuracy: 0.5045\n",
      "Epoch 8/10\n",
      "8/8 [==============================] - 5s 586ms/step - loss: 0.8564 - accuracy: 0.8484 - val_loss: 1.1897 - val_accuracy: 0.5636\n",
      "Epoch 9/10\n",
      "8/8 [==============================] - 6s 708ms/step - loss: 0.8254 - accuracy: 0.8595 - val_loss: 1.1866 - val_accuracy: 0.5409\n",
      "Epoch 10/10\n",
      "8/8 [==============================] - 4s 547ms/step - loss: 0.8022 - accuracy: 0.8778 - val_loss: 1.1839 - val_accuracy: 0.5455\n"
     ]
    }
   ],
   "source": [
    "history = model.fit(x=train,\n",
    "                    y=train_labels,\n",
    "                    batch_size=BATCH_SIZE,\n",
    "                    epochs=TRAIN_EPOCHS,\n",
    "                    validation_data=(test, test_labels))"
   ]
  },
  {
   "cell_type": "code",
   "execution_count": 6,
   "metadata": {},
   "outputs": [
    {
     "data": {
      "image/png": "[encoded data removed]",
      "text/plain": [
       "<Figure size 432x288 with 1 Axes>"
      ]
     },
     "metadata": {
      "needs_background": "light"
     },
     "output_type": "display_data"
    },
    {
     "data": {
      "image/png": "[encoded data removed]",
      "text/plain": [
       "<Figure size 432x288 with 1 Axes>"
      ]
     },
     "metadata": {
      "needs_background": "light"
     },
     "output_type": "display_data"
    }
   ],
   "source": [
    "if not os.path.exists(\"results\"):\n",
    "    os.makedirs(\"results\")\n",
    "save_history(history, HISTORY_PATH)\n",
    "plot_history(history, show=True, save_as=\"./results/\" + RUN_NAME)"
   ]
  },
  {
   "cell_type": "code",
   "execution_count": 8,
   "metadata": {},
   "outputs": [
    {
     "name": "stdout",
     "output_type": "stream",
     "text": [
      "7/7 [==============================] - 1s 31ms/step\n"
     ]
    }
   ],
   "source": [
    "prediction = model.predict(test)"
   ]
  },
  {
   "cell_type": "code",
   "execution_count": 17,
   "metadata": {},
   "outputs": [
    {
     "data": {
      "text/plain": [
       "120"
      ]
     },
     "execution_count": 17,
     "metadata": {},
     "output_type": "execute_result"
    }
   ],
   "source": [
    "import numpy as np\n",
    "\n",
    "np.sum(np.argmax(prediction, axis=1) == np.argmax(test_labels, axis=1)) / len(prediction)"
   ]
  }
 ],
 "metadata": {
  "kernelspec": {
   "display_name": "Python 3",
   "language": "python",
   "name": "python3"
  },
  "language_info": {
   "codemirror_mode": {
    "name": "ipython",
    "version": 3
   },
   "file_extension": ".py",
   "mimetype": "text/x-python",
   "name": "python",
   "nbconvert_exporter": "python",
   "pygments_lexer": "ipython3",
   "version": "3.8.8"
  },
  "orig_nbformat": 4
 },
 "nbformat": 4,
 "nbformat_minor": 2
}
